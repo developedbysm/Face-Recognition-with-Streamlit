{
 "cells": [
  {
   "cell_type": "markdown",
   "id": "3ebd5117",
   "metadata": {},
   "source": [
    "## <center> Masking backgrounds to live photos"
   ]
  },
  {
   "cell_type": "code",
   "execution_count": null,
   "id": "555defa0",
   "metadata": {},
   "outputs": [],
   "source": [
    "#pip install mediapipe"
   ]
  },
  {
   "cell_type": "code",
   "execution_count": 1,
   "id": "6129ccd0",
   "metadata": {},
   "outputs": [
    {
     "name": "stdout",
     "output_type": "stream",
     "text": [
      "Enter the background you want \n",
      "Press 1 for Background 1 \n",
      "Press 2 for Background 2 \n",
      "Press 3 for Background 3 \n",
      "Press 4 for Background 4 \n",
      "Press 5 for Background 5 \n",
      "Press 6 for Background 6\n",
      "2\n"
     ]
    },
    {
     "ename": "KeyboardInterrupt",
     "evalue": "",
     "output_type": "error",
     "traceback": [
      "\u001b[0;31m---------------------------------------------------------------------------\u001b[0m",
      "\u001b[0;31mKeyboardInterrupt\u001b[0m                         Traceback (most recent call last)",
      "\u001b[0;32m<ipython-input-1-bb724da652c2>\u001b[0m in \u001b[0;36m<module>\u001b[0;34m\u001b[0m\n\u001b[1;32m     47\u001b[0m \u001b[0;32mwhile\u001b[0m \u001b[0mcap\u001b[0m\u001b[0;34m.\u001b[0m\u001b[0misOpened\u001b[0m\u001b[0;34m(\u001b[0m\u001b[0;34m)\u001b[0m\u001b[0;34m:\u001b[0m\u001b[0;34m\u001b[0m\u001b[0;34m\u001b[0m\u001b[0m\n\u001b[1;32m     48\u001b[0m     \u001b[0;31m# read the background\u001b[0m\u001b[0;34m\u001b[0m\u001b[0;34m\u001b[0m\u001b[0;34m\u001b[0m\u001b[0m\n\u001b[0;32m---> 49\u001b[0;31m     \u001b[0mFlag\u001b[0m\u001b[0;34m,\u001b[0m \u001b[0mFrame\u001b[0m \u001b[0;34m=\u001b[0m \u001b[0mcap\u001b[0m\u001b[0;34m.\u001b[0m\u001b[0mread\u001b[0m\u001b[0;34m(\u001b[0m\u001b[0;34m)\u001b[0m\u001b[0;34m\u001b[0m\u001b[0;34m\u001b[0m\u001b[0m\n\u001b[0m\u001b[1;32m     50\u001b[0m     \u001b[0;32mif\u001b[0m \u001b[0;32mnot\u001b[0m \u001b[0mFlag\u001b[0m\u001b[0;34m:\u001b[0m\u001b[0;34m\u001b[0m\u001b[0;34m\u001b[0m\u001b[0m\n\u001b[1;32m     51\u001b[0m         \u001b[0mprint\u001b[0m\u001b[0;34m(\u001b[0m\u001b[0;34m'Error'\u001b[0m\u001b[0;34m)\u001b[0m\u001b[0;34m\u001b[0m\u001b[0;34m\u001b[0m\u001b[0m\n",
      "\u001b[0;31mKeyboardInterrupt\u001b[0m: "
     ]
    }
   ],
   "source": [
    "# Importing libraries\n",
    "\n",
    "import cv2\n",
    "import mediapipe as mp\n",
    "import numpy as np\n",
    "\n",
    "#Mediapipe, a cross-platform framework for building multimodal applied machine learning pipelines - video, audio, time series etc\n",
    "\n",
    "#Drawing utility\n",
    "mp_drawing = mp.solutions.drawing_utils\n",
    "\n",
    "#Face recognition utility\n",
    "mp_selfie_segmentation = mp.solutions.selfie_segmentation\n",
    "\n",
    "# Getting the user input to change the background of the live camera, according to the input\n",
    "\n",
    "print('Enter the background you want \\nPress 1 for Background 1 \\nPress 2 for Background 2 \\nPress 3 for Background 3 \\nPress 4 for Background 4 \\nPress 5 for Background 5 \\nPress 6 for Background 6')\n",
    "\n",
    "# Get the input from the user\n",
    "\n",
    "inp = int(input())\n",
    "\n",
    "# Running a loop to change background according to the input\n",
    "\n",
    "if inp == 1 :\n",
    "    bg_img = cv2.imread('/Users/lakshmipriya/Desktop/unnamed.jpg')\n",
    "\n",
    "elif inp == 2:\n",
    "    bg_img = cv2.imread('/Users/lakshmipriya/Desktop/strawberry.jpg')\n",
    "\n",
    "elif inp == 3:\n",
    "    bg_img = cv2.imread('/Users/lakshmipriya/Desktop/pika.jpg')\n",
    "\n",
    "elif inp == 4:\n",
    "    bg_img = cv2.imread('/Users/lakshmipriya/Desktop/bu.jpg')\n",
    "\n",
    "elif inp == 5:\n",
    "    bg_img = cv2.imread('/Users/lakshmipriya/Desktop/bts.jpg')\n",
    "\n",
    "elif inp == 6: \n",
    "    bg_img = cv2.imread('/Users/lakshmipriya/Desktop/au.jpg')\n",
    "    \n",
    "model = mp_selfie_segmentation.SelfieSegmentation(model_selection = 1)\n",
    "\n",
    "# Using the library Cv2, to open the camera\n",
    "cap = cv2.VideoCapture(0)\n",
    "\n",
    "#Running a loop to perform certain conditions if the camera opens up and also print that, the camera is not accessible, if it doesn't open\n",
    "\n",
    "while cap.isOpened():\n",
    "    # read the backgrounds\n",
    "    Flag, Frame = cap.read()\n",
    "    if not Flag:\n",
    "        print('Error')\n",
    "        break\n",
    "\n",
    "    results = model.process(Frame)\n",
    "\n",
    "# Displays a plain green background if the image is not fetched \n",
    "    \n",
    "    condition = np.stack((results.segmentation_mask,)*3, axis =- 1) > 0.1\n",
    "    if bg_img is None:\n",
    "        print('something went wrong try again')\n",
    "        break\n",
    "        \n",
    "# Resize the image to the shape of the frame\n",
    "\n",
    "    bg_img = cv2.resize(bg_img, (Frame.shape[1], Frame.shape[0]))\n",
    "    \n",
    "    output_img = np.where(condition, Frame, bg_img)\n",
    " \n",
    "    cv2.imshow('Frame', output_img)\n",
    "    # Press q to break\n",
    "    if cv2.waitKey(10) & 0xff == ord('q'):\n",
    "        break\n",
    "# Release the camera and destroy all windows    \n",
    "cap.release()\n",
    "cv2.destroyAllWindows()\n"
   ]
  },
  {
   "cell_type": "code",
   "execution_count": null,
   "id": "39587391",
   "metadata": {},
   "outputs": [],
   "source": []
  }
 ],
 "metadata": {
  "kernelspec": {
   "display_name": "Python 3",
   "language": "python",
   "name": "python3"
  },
  "language_info": {
   "codemirror_mode": {
    "name": "ipython",
    "version": 3
   },
   "file_extension": ".py",
   "mimetype": "text/x-python",
   "name": "python",
   "nbconvert_exporter": "python",
   "pygments_lexer": "ipython3",
   "version": "3.8.10"
  }
 },
 "nbformat": 4,
 "nbformat_minor": 5
}
