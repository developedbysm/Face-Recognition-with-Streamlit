{
 "cells": [
  {
   "cell_type": "markdown",
   "id": "3ebd5117",
   "metadata": {},
   "source": [
    "## <center> Masking backgrounds to live photos"
   ]
  },
  {
   "cell_type": "code",
   "execution_count": null,
   "id": "555defa0",
   "metadata": {},
   "outputs": [],
   "source": [
    "#pip install mediapipe"
   ]
  },
  {
   "cell_type": "code",
   "execution_count": null,
   "id": "25dfbe2d",
   "metadata": {},
   "outputs": [],
   "source": [
    "# Importing libraries\n",
    "\n",
    "import cv2\n",
    "import mediapipe as mp\n",
    "import numpy as np\n",
    "\n",
    "#Mediapipe, a cross-platform framework for building multimodal applied machine learning pipelines - video, audio, time series etc\n",
    "\n",
    "#Drawing utility\n",
    "mp_drawing = mp.solutions.drawing_utils\n",
    "\n",
    "#Face recognition utility\n",
    "mp_selfie_segmentation = mp.solutions.selfie_segmentation\n",
    "\n",
    "# Getting the user input to change the background of the live camera, according to the input\n",
    "\n",
    "print('Enter the background you want \\nPress 1 for Background 1 \\nPress 2 for Background 2 \\nPress 3 for Background 3 \\nPress 4 for Background 4 \\nPress 5 for Background 5 \\nPress 6 for Background 6')\n",
    "\n",
    "# Get the input from the user\n",
    "\n",
    "inp = int(input())\n",
    "\n",
    "# Running a loop to change background according to the input\n",
    "\n",
    "if inp == 1 :\n",
    "    bg_img = cv2.imread('nature.jpg')\n",
    "\n",
    "elif inp == 2:\n",
    "    bg_img = cv2.imread('fire.jpg')\n",
    "\n",
    "elif inp == 3:\n",
    "    bg_img = cv2.imread('car.jpg')\n",
    "\n",
    "elif inp == 4:\n",
    "    bg_img = cv2.imread('forest.jpg')\n",
    "\n",
    "elif inp == 5:\n",
    "    bg_img = cv2.imread('water.jpg')\n",
    "\n",
    "elif inp == 6: \n",
    "    bg_img = cv2.imread('land.jpg')\n",
    "    \n",
    "model = mp_selfie_segmentation.SelfieSegmentation(model_selection = 1)\n",
    "\n",
    "# Using the library Cv2, to open the camera\n",
    "cap = cv2.VideoCapture(0)\n",
    "\n",
    "#Running a loop to perform certain conditions if the camera opens up and also print that, the camera is not accessible, if it doesn't open\n",
    "\n",
    "while cap.isOpened():\n",
    "    # read the backgrounds\n",
    "    Flag, Frame = cap.read()\n",
    "    if not Flag:\n",
    "        print('Error')\n",
    "        break\n",
    "\n",
    "    results = model.process(Frame)\n",
    "\n",
    "# Displays a plain green background if the image is not fetched \n",
    "    \n",
    "    condition = np.stack((results.segmentation_mask,)*3, axis =- 1) > 0.1\n",
    "    if bg_img is None:\n",
    "        print('something went wrong try again')\n",
    "        break\n",
    "        \n",
    "# Resize the image to the shape of the frame\n",
    "\n",
    "    bg_img = cv2.resize(bg_img, (Frame.shape[1], Frame.shape[0]))\n",
    "    \n",
    "    output_img = np.where(condition, Frame, bg_img)\n",
    " \n",
    "    cv2.imshow('Frame', output_img)\n",
    "    # Press q to break\n",
    "    if cv2.waitKey(10) & 0xff == ord('q'):\n",
    "        break\n",
    "# Release the camera and destroy all windows    \n",
    "cap.release()\n",
    "cv2.destroyAllWindows()\n",
    "\n"
   ]
  },
  {
   "cell_type": "code",
   "execution_count": null,
   "id": "39587391",
   "metadata": {},
   "outputs": [],
   "source": []
  }
 ],
 "metadata": {
  "kernelspec": {
   "display_name": "Python 3",
   "language": "python",
   "name": "python3"
  },
  "language_info": {
   "codemirror_mode": {
    "name": "ipython",
    "version": 3
   },
   "file_extension": ".py",
   "mimetype": "text/x-python",
   "name": "python",
   "nbconvert_exporter": "python",
   "pygments_lexer": "ipython3",
   "version": "3.8.10"
  }
 },
 "nbformat": 4,
 "nbformat_minor": 5
}
