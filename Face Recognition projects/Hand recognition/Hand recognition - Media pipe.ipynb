{
 "cells": [
  {
   "cell_type": "markdown",
   "id": "bff03309",
   "metadata": {},
   "source": [
    "## <center> Hand recognition "
   ]
  },
  {
   "cell_type": "code",
   "execution_count": null,
   "id": "4bde8089",
   "metadata": {},
   "outputs": [],
   "source": [
    "`# Import libraries\n",
    "\n",
    "import cv2\n",
    "import mediapipe as mp\n",
    "\n",
    "#Drawing utility\n",
    "mp_drawing = mp.solutions.drawing_utils\n",
    "\n",
    "# Hand recognition utility\n",
    "mp_hands   = mp.solutions.hands\n",
    "\n",
    "# Using the library Cv2, to open the camera\n",
    "cap = cv2.VideoCapture(0)\n",
    "\n",
    "#Running a loop to perform certain conditions if the camera opens up and also print that, the camera is not accessible, if it doesn't open\n",
    "\n",
    "with mp_hands.Hands( min_detection_confidence=0.5, min_tracking_confidence=0.5) as hands:\n",
    "    while cap.isOpened():\n",
    "        flag, image = cap.read()\n",
    "        if not flag:\n",
    "            print('something is wrong with camera')\n",
    "            break\n",
    "\n",
    "# For recognition of hands even when it is flipped\n",
    "        image = cv2.cvtColor(cv2.flip(image, 1), cv2.COLOR_BGR2RGB)\n",
    "\n",
    "# Processing the hand image in camera for True and false values \n",
    "\n",
    "        image.flags.writeable = False\n",
    "        results = hands.process(image)\n",
    "\n",
    "        results = hands.process(image)\n",
    "\n",
    "        image.flags.writeable = True\n",
    "        image = cv2.cvtColor(image, cv2.COLOR_RGB2BGR)\n",
    "\n",
    "# For recognition of multiple hands by the mode\n",
    "        if results.multi_hand_landmarks:\n",
    "            for hand_landmarks in results.multi_hand_landmarks:\n",
    "                mp_drawing.draw_landmarks( image, hand_landmarks, mp_hands.HAND_CONNECTIONS)\n",
    "\n",
    "\n",
    "        cv2.imshow('live', image)\n",
    "\n",
    "# Waitkey gives an output image in mseconds, but makes the mind appear like a video since it is too fast\n",
    "        if cv2.waitKey(10) & 0xff == ord('q'):\n",
    "            break\n",
    "\n",
    "\n",
    "\n",
    "cap.release()\n",
    "cv2.destroyAllWindows()\n"
   ]
  },
  {
   "cell_type": "code",
   "execution_count": null,
   "id": "894a0852",
   "metadata": {},
   "outputs": [],
   "source": []
  }
 ],
 "metadata": {
  "kernelspec": {
   "display_name": "Python 3",
   "language": "python",
   "name": "python3"
  },
  "language_info": {
   "codemirror_mode": {
    "name": "ipython",
    "version": 3
   },
   "file_extension": ".py",
   "mimetype": "text/x-python",
   "name": "python",
   "nbconvert_exporter": "python",
   "pygments_lexer": "ipython3",
   "version": "3.8.10"
  }
 },
 "nbformat": 4,
 "nbformat_minor": 5
}
