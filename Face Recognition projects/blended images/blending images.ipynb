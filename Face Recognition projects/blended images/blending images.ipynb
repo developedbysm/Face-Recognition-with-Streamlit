{
 "cells": [
  {
   "cell_type": "code",
   "execution_count": null,
   "id": "8ef747d2",
   "metadata": {},
   "outputs": [],
   "source": [
    "import cv2\n",
    "\n",
    "cap = cv2.VideoCapture(0)\n",
    "image1 = cv2.imread('/Users/lakshmipriya/Desktop/pika.jpg')\n",
    "\n",
    "while True:\n",
    "    flag, frame = cap.read()\n",
    "    if not flag:\n",
    "        print(\"camera is not accessible\")\n",
    "        break\n",
    "    \n",
    "    \n",
    "    image1=cv2.resize(image1,(frame.shape[1],frame.shape[0]))\n",
    "    blended_image = cv2.addWeighted(frame, 0.8, image1, 0.2, gamma=0.2)\n",
    "    cv2.imshow(\"blended image\",blended_image)\n",
    "    if cv2.waitKey(10) & 0xff == ord('q'):\n",
    "        break\n",
    "\n",
    "cap.release()\n",
    "cv2.destroyAllWindows()\n",
    "\n"
   ]
  },
  {
   "cell_type": "code",
   "execution_count": null,
   "id": "550c9041",
   "metadata": {},
   "outputs": [],
   "source": []
  }
 ],
 "metadata": {
  "kernelspec": {
   "display_name": "Python 3",
   "language": "python",
   "name": "python3"
  },
  "language_info": {
   "codemirror_mode": {
    "name": "ipython",
    "version": 3
   },
   "file_extension": ".py",
   "mimetype": "text/x-python",
   "name": "python",
   "nbconvert_exporter": "python",
   "pygments_lexer": "ipython3",
   "version": "3.8.10"
  }
 },
 "nbformat": 4,
 "nbformat_minor": 5
}
